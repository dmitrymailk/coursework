{
 "metadata": {
  "language_info": {
   "codemirror_mode": {
    "name": "ipython",
    "version": 3
   },
   "file_extension": ".py",
   "mimetype": "text/x-python",
   "name": "python",
   "nbconvert_exporter": "python",
   "pygments_lexer": "ipython3",
   "version": "3.8.0-final"
  },
  "orig_nbformat": 2,
  "kernelspec": {
   "name": "python3",
   "display_name": "Python 3",
   "language": "python"
  }
 },
 "nbformat": 4,
 "nbformat_minor": 2,
 "cells": [
  {
   "cell_type": "code",
   "execution_count": 2,
   "metadata": {},
   "outputs": [],
   "source": [
    "import pandas as pd\n",
    "import json"
   ]
  },
  {
   "cell_type": "code",
   "execution_count": 3,
   "metadata": {},
   "outputs": [],
   "source": [
    "dataset = pd.read_csv('export-2021-01-16T20_20_11.919Z.csv', encoding='utf-8')"
   ]
  },
  {
   "cell_type": "code",
   "execution_count": 18,
   "metadata": {
    "tags": []
   },
   "outputs": [
    {
     "output_type": "stream",
     "name": "stdout",
     "text": [
      "['a2_present_perfect', 'a1_past_simple_irreg', 'a2_narrative_tenses', 'a2_article_a_an', 'a1_singular_nouns']\n['a2_had_to', 'a1_past_simple_irreg', 'a2_narrative_tenses']\n['a2_first_conditional_if_m', 'a1_present_simple_reg_act']\n['a2_article_the', 'a1_to_be_present_is_am_are', 'a1_present_simple_reg_act', 'a1_plural_nouns']\n['a1_possessive_pronouns']\n['a1_present_simple_reg_act', 'a2_zero_conditional_m_if', 'a1_plural_forms', 'a1_to_be_present_is_am_are']\n['a1_present_simple_reg_act', 'a2_article_a_an', 'a2_relative_clause_who_which_that']\n['a1_present_simple_reg_act', 'a1_can', 'a2_to_non_finite_forms', 'a1_plural_forms']\n['a1_present_continuous_act_rn', 'a1_to_be_present_is_am_are', 'a2_say_reported_verb', 'a1_can', 'a2_article_the', 'a1_possessive_pronouns']\n['a1_plural_forms', 'a2_passive_present_simple', 'a2_to_non_finite_forms', 'a2_article_the', 'a1_to_be_past_was_were', 'a2_narrative_tenses']\n['a1_past_simple_irreg', 'a2_adjectives_ed', 'a2_article_the', 'a2_to_non_finite_forms']\n['a2_much_many_a_lot', 'a2_present_perfect', 'a2_ing_non_finite_forms', 'a1_plural_forms', 'a2_article_the']\n['a1_personal_pronouns', 'a1_possessive_pronouns', 'a1_to_be_past_was_were', 'a1_to_be_present_is_am_are', 'a1_plural_forms', 'a2_article_the']\n['a2_article_a_an', 'a2_article_the', 'a1_there_is_am_are', 'a2_adjectives_ing']\n['a2_could', 'a2_article_the', 'a1_plural_forms', 'a1_present_simple_reg_act', 'a2_much_many_a_lot']\n['a1_plural_forms']\n['a1_there_is_am_are', 'a2_article_a_an', 'a2_article_the', 'a1_plural_forms']\n['a1_past_simple_irreg', 'a1_past_simple_reg', 'a1_personal_pronouns']\n['a1_personal_pronouns', 'a2_future_simple_pred_bas_on_own_exp', 'a1_present_simple_reg_act']\n['a1_past_simple_irreg', 'a2_article_a_an', 'a1_countable_nouns']\n['a1_present_simple_reg_act', 'a2_article_the', 'a1_possessive_pronouns', 'a1_plural_forms']\n['a1_past_simple_reg', 'a2_article_a_an', 'a1_countable_nouns', 'a1_uncountable_nouns']\n['a1_past_simple_reg', 'a2_relative_clause_others', 'a2_passive_past_simple', 'a1_possessive_pronouns']\n['a1_past_simple_reg', 'a1_personal_pronouns', 'a2_to_non_finite_forms', 'a1_plural_forms', 'a1_possessive_pronouns', 'a2_article_the', 'a2_ing_non_finite_forms']\n['a1_to_be_past_was_were', 'a1_past_simple_reg']\n['a1_personal_pronouns', 'a1_past_simple_reg', 'a2_to_non_finite_forms']\n['a2_relative_clause_who_which_that', 'a1_superlative_short', 'a2_article_the', 'a1_past_simple_reg', 'a2_to_non_finite_forms', 'a1_countable_nouns']\n"
     ]
    },
    {
     "output_type": "error",
     "ename": "KeyError",
     "evalue": "'classifications'",
     "traceback": [
      "\u001b[1;31m---------------------------------------------------------------------------\u001b[0m",
      "\u001b[1;31mKeyError\u001b[0m                                  Traceback (most recent call last)",
      "\u001b[1;32m<ipython-input-18-e8d3fb2adcd2>\u001b[0m in \u001b[0;36m<module>\u001b[1;34m\u001b[0m\n\u001b[0;32m      1\u001b[0m \u001b[1;32mfor\u001b[0m \u001b[0mi\u001b[0m \u001b[1;32min\u001b[0m \u001b[0mrange\u001b[0m\u001b[1;33m(\u001b[0m\u001b[0mlen\u001b[0m\u001b[1;33m(\u001b[0m\u001b[0mdataset\u001b[0m\u001b[1;33m)\u001b[0m\u001b[1;33m)\u001b[0m\u001b[1;33m:\u001b[0m\u001b[1;33m\u001b[0m\u001b[1;33m\u001b[0m\u001b[0m\n\u001b[1;32m----> 2\u001b[1;33m     \u001b[0manswers\u001b[0m \u001b[1;33m=\u001b[0m \u001b[0mjson\u001b[0m\u001b[1;33m.\u001b[0m\u001b[0mloads\u001b[0m\u001b[1;33m(\u001b[0m\u001b[0mdataset\u001b[0m\u001b[1;33m[\u001b[0m\u001b[1;34m'Label'\u001b[0m\u001b[1;33m]\u001b[0m\u001b[1;33m[\u001b[0m\u001b[0mi\u001b[0m\u001b[1;33m]\u001b[0m\u001b[1;33m)\u001b[0m\u001b[1;33m[\u001b[0m\u001b[1;34m'classifications'\u001b[0m\u001b[1;33m]\u001b[0m\u001b[1;33m\u001b[0m\u001b[1;33m\u001b[0m\u001b[0m\n\u001b[0m\u001b[0;32m      3\u001b[0m     \u001b[1;32mif\u001b[0m \u001b[0mlen\u001b[0m\u001b[1;33m(\u001b[0m\u001b[0manswers\u001b[0m\u001b[1;33m)\u001b[0m \u001b[1;33m>\u001b[0m \u001b[1;36m0\u001b[0m\u001b[1;33m:\u001b[0m\u001b[1;33m\u001b[0m\u001b[1;33m\u001b[0m\u001b[0m\n\u001b[0;32m      4\u001b[0m         \u001b[0manswers\u001b[0m \u001b[1;33m=\u001b[0m \u001b[0manswers\u001b[0m\u001b[1;33m[\u001b[0m\u001b[1;36m0\u001b[0m\u001b[1;33m]\u001b[0m\u001b[1;33m[\u001b[0m\u001b[1;34m'answers'\u001b[0m\u001b[1;33m]\u001b[0m\u001b[1;33m\u001b[0m\u001b[1;33m\u001b[0m\u001b[0m\n\u001b[0;32m      5\u001b[0m         \u001b[0mlabels\u001b[0m \u001b[1;33m=\u001b[0m \u001b[1;33m[\u001b[0m\u001b[0mitem\u001b[0m\u001b[1;33m[\u001b[0m\u001b[1;34m'value'\u001b[0m\u001b[1;33m]\u001b[0m \u001b[1;32mfor\u001b[0m \u001b[0mitem\u001b[0m \u001b[1;32min\u001b[0m \u001b[0manswers\u001b[0m\u001b[1;33m]\u001b[0m\u001b[1;33m\u001b[0m\u001b[1;33m\u001b[0m\u001b[0m\n",
      "\u001b[1;31mKeyError\u001b[0m: 'classifications'"
     ]
    }
   ],
   "source": [
    "\n",
    "for i in range(len(dataset)):\n",
    "    answers = json.loads(dataset['Label'][i])['classifications']\n",
    "    if len(answers) > 0:\n",
    "        answers = answers[0]['answers']\n",
    "        labels = [item['value'] for item in answers]\n",
    "        print(labels)"
   ]
  }
 ]
}