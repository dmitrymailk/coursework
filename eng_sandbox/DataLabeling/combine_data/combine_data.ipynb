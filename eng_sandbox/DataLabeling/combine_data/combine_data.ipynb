{
 "cells": [
  {
   "cell_type": "code",
   "execution_count": 4,
   "metadata": {},
   "outputs": [],
   "source": [
    "import pandas as pd \r\n",
    "from datetime import date"
   ]
  },
  {
   "cell_type": "code",
   "execution_count": 5,
   "metadata": {},
   "outputs": [],
   "source": [
    "dataset_1 = pd.read_csv(\"./combine_2_24_21_NER/export-2021-02-19T15_38_59.685Z.csv\", encoding='utf-8')\r\n",
    "dataset_2 = pd.read_csv(\"./combine_2_24_21_NER/multi_label_tenses_add_596_1_29_20.csv\", encoding='utf-8')"
   ]
  },
  {
   "cell_type": "markdown",
   "metadata": {},
   "source": [
    "## check duplicates"
   ]
  },
  {
   "cell_type": "code",
   "execution_count": 6,
   "metadata": {},
   "outputs": [
    {
     "data": {
      "text/html": "<div>\n<style scoped>\n    .dataframe tbody tr th:only-of-type {\n        vertical-align: middle;\n    }\n\n    .dataframe tbody tr th {\n        vertical-align: top;\n    }\n\n    .dataframe thead th {\n        text-align: right;\n    }\n</style>\n<table border=\"1\" class=\"dataframe\">\n  <thead>\n    <tr style=\"text-align: right;\">\n      <th></th>\n      <th>sent</th>\n      <th>type</th>\n    </tr>\n  </thead>\n  <tbody>\n  </tbody>\n</table>\n</div>",
      "text/plain": [
       "Empty DataFrame\n",
       "Columns: [sent, type]\n",
       "Index: []"
      ]
     },
     "execution_count": 6,
     "metadata": {},
     "output_type": "execute_result"
    }
   ],
   "source": [
    "dataset_1[dataset_1['sent'].duplicated()] "
   ]
  },
  {
   "cell_type": "code",
   "execution_count": 7,
   "metadata": {},
   "outputs": [
    {
     "data": {
      "text/html": "<div>\n<style scoped>\n    .dataframe tbody tr th:only-of-type {\n        vertical-align: middle;\n    }\n\n    .dataframe tbody tr th {\n        vertical-align: top;\n    }\n\n    .dataframe thead th {\n        text-align: right;\n    }\n</style>\n<table border=\"1\" class=\"dataframe\">\n  <thead>\n    <tr style=\"text-align: right;\">\n      <th></th>\n      <th>sent</th>\n      <th>type</th>\n    </tr>\n  </thead>\n  <tbody>\n  </tbody>\n</table>\n</div>",
      "text/plain": [
       "Empty DataFrame\n",
       "Columns: [sent, type]\n",
       "Index: []"
      ]
     },
     "execution_count": 7,
     "metadata": {},
     "output_type": "execute_result"
    }
   ],
   "source": [
    "dataset_2[dataset_2['sent'].duplicated()]"
   ]
  },
  {
   "cell_type": "code",
   "execution_count": 8,
   "metadata": {},
   "outputs": [],
   "source": [
    "dataset_1 = dataset_1[dataset_1['sent'].duplicated() == False] \n",
    "dataset_2 = dataset_2[dataset_2['sent'].duplicated() == False] "
   ]
  },
  {
   "cell_type": "code",
   "execution_count": 12,
   "metadata": {},
   "outputs": [],
   "source": [
    "combined_dataset = pd.concat([dataset_1, dataset_2])\n",
    "combined_dataset = combined_dataset[combined_dataset['sent'].duplicated() == False]"
   ]
  },
  {
   "cell_type": "code",
   "execution_count": 13,
   "metadata": {},
   "outputs": [],
   "source": [
    "from datetime import date\n",
    "today = date.today()\n",
    "d1 = today.strftime(\"%d_%m_%Y\")\n",
    "combined_dataset.to_csv(f'combined_{d1}.csv', index=False, encoding='utf-8')"
   ]
  },
  {
   "cell_type": "code",
   "execution_count": 5,
   "metadata": {},
   "outputs": [],
   "source": [
    "def combine_dataset(dataset_path_1, dataset_path_2):\r\n",
    "  dataset_1 = pd.read_csv(dataset_path_1, encoding='utf-8')\r\n",
    "  dataset_2 = pd.read_csv(dataset_path_2, encoding='utf-8')\r\n",
    "  comb_dataset = pd.concat([dataset_1, dataset_2], ignore_index=True)\r\n",
    "  print(f\"Before dup {len(comb_dataset)}\")\r\n",
    "  comb_dataset = comb_dataset[comb_dataset['Labeled Data'].duplicated() == False]\r\n",
    "  print(f\"After dup {len(comb_dataset)}\")\r\n",
    "  today = date.today()\r\n",
    "  d1 = today.strftime(\"%d_%m_%Y\")\r\n",
    "  comb_dataset.to_csv(f'combined_{d1}.csv', encoding='utf-8', index=False)\r\n"
   ]
  },
  {
   "cell_type": "code",
   "execution_count": 6,
   "metadata": {},
   "outputs": [
    {
     "name": "stdout",
     "output_type": "stream",
     "text": [
      "Before dup 768\n",
      "After dup 768\n"
     ]
    }
   ],
   "source": [
    "combine_dataset(\"./combine_2_24_21_NER/export-2021-02-19T15_38_59.685Z.csv\", \r\n",
    "                \"./combine_2_24_21_NER/export-2021-02-24T09_40_35.056Z.csv\",\r\n",
    "                )"
   ]
  },
  {
   "cell_type": "markdown",
   "metadata": {},
   "source": [
    "# Combine and remove duplicates"
   ]
  },
  {
   "cell_type": "code",
   "execution_count": 9,
   "metadata": {},
   "outputs": [],
   "source": [
    "prev_dataset_1 = pd.read_csv(\"./combined_texts_50k.csv\", encoding='utf-8')\n",
    "prev_dataset_1 = prev_dataset_1.rename(columns={'sentence': 'sent'})\n",
    "prev_dataset_1 = prev_dataset_1[['sent']]\n",
    "prev_dataset_1['source'] = 1"
   ]
  },
  {
   "cell_type": "code",
   "execution_count": 10,
   "metadata": {},
   "outputs": [],
   "source": [
    "prev_dataset_2 = pd.read_csv(\"./combined_04_02_2021.csv\", encoding='utf-8')\n",
    "prev_dataset_2 = prev_dataset_2[['sent']]\n",
    "prev_dataset_2['source'] = 2"
   ]
  },
  {
   "cell_type": "code",
   "execution_count": 11,
   "metadata": {},
   "outputs": [],
   "source": [
    "combined_dataset = pd.concat([prev_dataset_1, prev_dataset_2])"
   ]
  },
  {
   "cell_type": "code",
   "execution_count": 21,
   "metadata": {},
   "outputs": [],
   "source": [
    "combined_dataset[\n",
    "    (combined_dataset['sent'].duplicated() == False)\n",
    "    &\n",
    "    (combined_dataset['source'] == 1)\n",
    "    ].to_csv(\"./combined_2_16_21_NER_45k.csv\", index=False, encoding='utf-8')"
   ]
  },
  {
   "cell_type": "code",
   "execution_count": null,
   "metadata": {},
   "outputs": [],
   "source": []
  }
 ],
 "metadata": {
  "kernelspec": {
   "display_name": "Python 3.8.0 64-bit ('ai-env': venv)",
   "metadata": {
    "interpreter": {
     "hash": "ee89ffdf677b068b3969c9c92fc557abd8fe9bdccee3c1b3432324df722c1402"
    }
   },
   "name": "python3"
  },
  "language_info": {
   "codemirror_mode": {
    "name": "ipython",
    "version": 3
   },
   "file_extension": ".py",
   "mimetype": "text/x-python",
   "name": "python",
   "nbconvert_exporter": "python",
   "pygments_lexer": "ipython3",
   "version": "3.8.0"
  },
  "orig_nbformat": 2
 },
 "nbformat": 4,
 "nbformat_minor": 2
}